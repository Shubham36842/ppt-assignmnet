{
 "cells": [
  {
   "cell_type": "raw",
   "id": "566fbe65-ab3b-495d-ac71-cec32150d2ad",
   "metadata": {},
   "source": [
    "Question 1\n",
    "Given an integer array nums of length n and an integer target, find three integers\n",
    "in nums such that the sum is closest to the target.\n",
    "Return the sum of the three integers.\n",
    "\n",
    "You may assume that each input would have exactly one solution.\n",
    "\n",
    "Example 1:\n",
    "Input: nums = [-1,2,1,-4], target = 1\n",
    "Output: 2"
   ]
  },
  {
   "cell_type": "code",
   "execution_count": 1,
   "id": "2a217e13-8c72-451a-a6d1-1b0535b69da7",
   "metadata": {},
   "outputs": [
    {
     "name": "stdout",
     "output_type": "stream",
     "text": [
      "2\n"
     ]
    }
   ],
   "source": [
    "def find_close_triplet(arr, n, x, count, sum, ind, ans, minm):\n",
    "\t# Return on reaching to the end of array\n",
    "\t# Here if we picked three element till now then check\n",
    "\t# that sum is closest to our \"x\" or not\n",
    "\tif ind == n:\n",
    "\t\tif count == 3:\n",
    "\t\t\tif abs(x - sum) < minm[0]:\n",
    "\t\t\t\tminm[0] = abs(x - sum)\n",
    "\t\t\t\tans[0] = sum\n",
    "\t\treturn\n",
    "\n",
    "\t# Pick this number\n",
    "\tfind_close_triplet(arr, n, x, count + 1, sum + arr[ind], ind + 1, ans, minm)\n",
    "\n",
    "\t# Don't pick this number\n",
    "\tfind_close_triplet(arr, n, x, count, sum, ind + 1, ans, minm)\n",
    "\n",
    "# Driver's code\n",
    "if __name__ == \"__main__\":\n",
    "    arr = [-1, 2, 1, -4]\n",
    "    x = 1\n",
    "    n = len(arr)\n",
    "    minm = [float('inf')]\n",
    "    ans = [0]\n",
    "\n",
    "# Function Call\n",
    "find_close_triplet(arr, n, x, 0, 0, 0, ans, minm)\n",
    "print(ans[0])\n"
   ]
  },
  {
   "cell_type": "raw",
   "id": "b041c8cb-8ab3-46cf-9b3f-4d226df70f1a",
   "metadata": {},
   "source": [
    "Question 2\n",
    "Given an array nums of n integers, return an array of all the unique quadruplets\n",
    "[nums[a], nums[b], nums[c], nums[d]] such that:\n",
    "           ● 0 <= a, b, c, d < n\n",
    "           ● a, b, c, and d are distinct.\n",
    "           ● nums[a] + nums[b] + nums[c] + nums[d] == target\n",
    "\n",
    "You may return the answer in any order.\n",
    "\n",
    "Example 1:\n",
    "Input: nums = [1,0,-1,0,-2,2], target = 0\n",
    "Output: [[-2,-1,1,2],[-2,0,0,2],[-1,0,0,1]]"
   ]
  },
  {
   "cell_type": "code",
   "execution_count": 2,
   "id": "21f7d712-8811-47f3-ba5c-e96b288ee202",
   "metadata": {},
   "outputs": [
    {
     "name": "stdout",
     "output_type": "stream",
     "text": [
      "[(-2, 0, 0, 2), (-1, 0, 0, 1), (-2, -1, 1, 2)]\n"
     ]
    }
   ],
   "source": [
    "class Pair:\n",
    "\tdef __init__(self, x, y):\n",
    "\t\tself.index1 = x\n",
    "\t\tself.index2 = y\n",
    "\n",
    "# Function to find the all the unique quadruplets\n",
    "# with the elements at different indices\n",
    "def GetQuadruplets(nums, target):\n",
    "\t# Store the sum mapped to a list of pair indices\n",
    "\tmap = {}\n",
    "\n",
    "\t# Generate all possible pairs for the map\n",
    "\tfor i in range(len(nums) - 1):\n",
    "\t\tfor j in range(i + 1, len(nums)):\n",
    "\t\t\t# Find the sum of pairs of elements\n",
    "\t\t\tsum = nums[i] + nums[j]\n",
    "\n",
    "\t\t\t# If the sum doesn't exist then update with the new pairs\n",
    "\t\t\tif sum not in map:\n",
    "\t\t\t\tmap[sum] = [Pair(i, j)]\n",
    "\t\t\t# Otherwise, add the new pair of indices to the current sum\n",
    "\t\t\telse:\n",
    "\t\t\t\tmap[sum].append(Pair(i, j))\n",
    "\n",
    "\t# Store all the Quadruplets\n",
    "\tans = set()\n",
    "\n",
    "\tfor i in range(len(nums) - 1):\n",
    "\t\tfor j in range(i + 1, len(nums)):\n",
    "\t\t\tlookUp = target - (nums[i] + nums[j])\n",
    "\n",
    "\t\t\t# If the sum with value (K - sum) exists\n",
    "\t\t\tif lookUp in map:\n",
    "\t\t\t\t# Get the pair of indices of sum\n",
    "\t\t\t\ttemp = map[lookUp]\n",
    "\n",
    "\t\t\t\tfor pair in temp:\n",
    "\t\t\t\t\t# Check if i, j, k and l are distinct or not\n",
    "\t\t\t\t\tif pair.index1 != i and pair.index1 != j and pair.index2 != i and pair.index2 != j:\n",
    "\t\t\t\t\t\tl1 = [nums[pair.index1], nums[pair.index2], nums[i], nums[j]]\n",
    "\t\t\t\t\t\t\n",
    "\t\t\t\t\t\t# Sort the list to avoid duplicacy\n",
    "\t\t\t\t\t\tl1.sort()\n",
    "\t\t\t\t\t\t\n",
    "\t\t\t\t\t\t# Update the set\n",
    "\t\t\t\t\t\tans.add(tuple(l1))\n",
    "\n",
    "\t# Print all the Quadruplets\n",
    "\tprint([*reversed(list(ans))], sep = ',')\n",
    "\n",
    "# Driver Code\n",
    "arr = [1, 0, -1, 0, -2, 2]\n",
    "K = 0\n",
    "GetQuadruplets(arr, K)"
   ]
  },
  {
   "cell_type": "raw",
   "id": "abbb9bed-4092-4c43-a152-1c462237d6f6",
   "metadata": {},
   "source": [
    " **Question 3**\n",
    "A permutation of an array of integers is an arrangement of its members into a\n",
    "sequence or linear order.\n",
    "\n",
    "For example, for arr = [1,2,3], the following are all the permutations of arr:\n",
    "[1,2,3], [1,3,2], [2, 1, 3], [2, 3, 1], [3,1,2], [3,2,1].\n",
    "\n",
    "The next permutation of an array of integers is the next lexicographically greater\n",
    "permutation of its integer. More formally, if all the permutations of the array are\n",
    "sorted in one container according to their lexicographical order, then the next\n",
    "permutation of that array is the permutation that follows it in the sorted container.\n",
    "\n",
    "If such an arrangement is not possible, the array must be rearranged as the\n",
    "lowest possible order (i.e., sorted in ascending order).\n",
    "\n",
    "● For example, the next permutation of arr = [1,2,3] is [1,3,2].\n",
    "● Similarly, the next permutation of arr = [2,3,1] is [3,1,2].\n",
    "● While the next permutation of arr = [3,2,1] is [1,2,3] because [3,2,1] does not\n",
    "have a lexicographical larger rearrangement.\n",
    "\n",
    "Given an array of integers nums, find the next permutation of nums.\n",
    "The replacement must be in place and use only constant extra memory.\n",
    "\n",
    "**Example 1:**\n",
    "Input: nums = [1,2,3]\n",
    "Output: [1,3,2]"
   ]
  },
  {
   "cell_type": "code",
   "execution_count": 3,
   "id": "52a4f823-daf2-4d36-8383-d00cb2c4e0f0",
   "metadata": {},
   "outputs": [
    {
     "name": "stdout",
     "output_type": "stream",
     "text": [
      "[1, 3, 2]\n"
     ]
    }
   ],
   "source": [
    "def swapPositions(list, pos1, pos2):\n",
    "\tlist[pos1], list[pos2] = list[pos2], list[pos1]\n",
    "\treturn list\n",
    "\n",
    "# Function to find the next permutation\n",
    "def nextPermutation(arr):\n",
    "\tn = len(arr)\n",
    "\ti = 0\n",
    "\tj = 0\n",
    "\t\n",
    "\t# Find for the pivot element.\n",
    "\t# A pivot is the first element from\n",
    "\t# end of sequencewhich doesn't follow\n",
    "\t# property of non-increasing suffix\n",
    "\tfor i in range(n-2, -1, -1):\n",
    "\t\tif (arr[i] < arr[i + 1]):\n",
    "\t\t\tbreak\n",
    "\t\t\t\n",
    "\t# Check if pivot is not found\n",
    "\tif (i < 0):\n",
    "\t\tarr.reverse()\n",
    "\n",
    "\t# if pivot is found\n",
    "\telse:\n",
    "\t\t# Find for the successor of pivot in suffix\n",
    "\t\tfor j in range(n-1, i, -1):\n",
    "\t\t\tif (arr[j] > arr[i]):\n",
    "\t\t\t\tbreak\n",
    "\n",
    "\t\t# Swap the pivot and successor\n",
    "\t\tswapPositions(arr, i, j)\n",
    "\t\t\n",
    "\t\t# Minimise the suffix part\n",
    "\t\t# initializing range\n",
    "\t\tstrt, end = i+1, len(arr)\n",
    "\n",
    "\t\t# Third arg. of split with -1 performs reverse\n",
    "\t\tarr[strt:end] = arr[strt:end][::-1]\n",
    "\n",
    "# Driver code\n",
    "if __name__ == \"__main__\":\n",
    "\tarr = [1, 2, 3]\n",
    "\t\n",
    "\t# Function call\n",
    "\tnextPermutation(arr)\n",
    "\t\n",
    "\t# Printing the answer\n",
    "\tprint(arr)"
   ]
  },
  {
   "cell_type": "raw",
   "id": "4045b039-bd38-447c-9406-342bacfb9a30",
   "metadata": {},
   "source": [
    "Question 4\n",
    "Given a sorted array of distinct integers and a target value, return the index if the\n",
    "target is found. If not, return the index where it would be if it were inserted in\n",
    "order.\n",
    "\n",
    "You must write an algorithm with O(log n) runtime complexity.\n",
    "\n",
    "Example 1:\n",
    "Input: nums = [1,3,5,6], target = 5\n",
    "Output: 2"
   ]
  },
  {
   "cell_type": "code",
   "execution_count": 4,
   "id": "676894bc-6bb7-4720-9da0-d99e3b1c68b8",
   "metadata": {},
   "outputs": [
    {
     "name": "stdout",
     "output_type": "stream",
     "text": [
      "2\n"
     ]
    }
   ],
   "source": [
    "# Function to find insert position of K\n",
    "def find_index(arr, n, K):\n",
    "\t\n",
    "\t# Traverse the array\n",
    "\tfor i in range(n):\n",
    "\t\t\n",
    "\t\t# If K is found\n",
    "\t\tif arr[i] == K:\n",
    "\t\t\treturn i\n",
    "\t\t\t\n",
    "\t\t# If arr[i] exceeds K\n",
    "\t\telif arr[i] > K:\n",
    "\t\t\treturn i\n",
    "\t\t\t\n",
    "\t# If all array elements are smaller\n",
    "\treturn n\n",
    "\n",
    "# Driver Code\n",
    "arr = [1, 3, 5, 6]\n",
    "n = len(arr)\n",
    "K = 5\n",
    "print(find_index(arr, n, K))\n"
   ]
  },
  {
   "cell_type": "raw",
   "id": "04ceae0c-d8d9-4af2-acd2-b3e4d51ccc30",
   "metadata": {},
   "source": [
    "Question 5\n",
    "You are given a large integer represented as an integer array digits, where each\n",
    "digits[i] is the ith digit of the integer. The digits are ordered from most significant\n",
    "to least significant in left-to-right order. The large integer does not contain any\n",
    "leading 0's.\n",
    "\n",
    "Increment the large integer by one and return the resulting array of digits.\n",
    "\n",
    "Example 1:\n",
    "Input: digits = [1,2,3]\n",
    "Output: [1,2,4]"
   ]
  },
  {
   "cell_type": "code",
   "execution_count": 5,
   "id": "3251b05a-7e47-4f54-9f06-fe7fd31a9e80",
   "metadata": {},
   "outputs": [
    {
     "name": "stdout",
     "output_type": "stream",
     "text": [
      "[1, 2, 4]\n"
     ]
    }
   ],
   "source": [
    "def AddOne(digits):\n",
    "\t\n",
    "\t# initialize an index (digit of units)\n",
    "\tindex = len(digits) - 1\n",
    "\t\n",
    "\t# while the index is valid and the value at [index] ==\n",
    "\t# 9 set it as 0\n",
    "\twhile (index >= 0 and digits[index] == 9):\n",
    "\t\tdigits[index] = 0\n",
    "\t\tindex -= 1\n",
    "\t\t\n",
    "\t# if index < 0 (if all digits were 9)\n",
    "\tif (index < 0):\n",
    "\t\t\n",
    "\t\t# insert an one at the beginning of the vector\n",
    "\t\tdigits.insert(0, 1)\n",
    "\t\t\n",
    "\t# else increment the value at [index]\n",
    "\telse:\n",
    "\t\tdigits[index]+=1\n",
    "\n",
    "\n",
    "digits = [1,2,3]\n",
    "\n",
    "AddOne(digits)\n",
    "\n",
    "print(digits)"
   ]
  },
  {
   "cell_type": "raw",
   "id": "896991d8-61b8-413e-a408-e351616e83b2",
   "metadata": {},
   "source": [
    "Question 6\n",
    "Given a non-empty array of integers nums, every element appears twice except\n",
    "for one. Find that single one.\n",
    "\n",
    "You must implement a solution with a linear runtime complexity and use only\n",
    "constant extra space.\n",
    "\n",
    "Example 1:\n",
    "Input: nums = [2,2,1]\n",
    "Output: 1"
   ]
  },
  {
   "cell_type": "code",
   "execution_count": 6,
   "id": "ac099d17-0569-4001-81db-2c2a19735e3a",
   "metadata": {},
   "outputs": [
    {
     "name": "stdout",
     "output_type": "stream",
     "text": [
      "1\n"
     ]
    }
   ],
   "source": [
    "def findSingle(A, ar_size):\n",
    "\t\n",
    "\t# iterate over every element\n",
    "\tfor i in range(ar_size):\n",
    "\t\t\n",
    "\t\t# Initialize count to 0\n",
    "\t\tcount = 0\n",
    "\t\tfor j in range(ar_size):\n",
    "\t\t\t\n",
    "\t\t\t# Count the frequency\n",
    "\t\t\t# of the element\n",
    "\t\t\tif(A[i] == A[j]):\n",
    "\t\t\t\tcount += 1\n",
    "\n",
    "\t\t# If the frequency of\n",
    "\t\t# the element is one\n",
    "\t\tif(count == 1):\n",
    "\t\t\treturn A[i]\n",
    "\t\t\t\n",
    "\t# If no element exist\n",
    "\t# at most once\n",
    "\treturn -1\n",
    "\n",
    "ar = [2,2,1]\n",
    "n = len(ar)\n",
    "# Function call\n",
    "print(findSingle(ar, n))"
   ]
  },
  {
   "cell_type": "raw",
   "id": "1a3e3b1c-cb6d-46f3-a049-e5b6b0142993",
   "metadata": {},
   "source": [
    "Question 7\n",
    "You are given an inclusive range [lower, upper] and a sorted unique integer array\n",
    "nums, where all elements are within the inclusive range.\n",
    "\n",
    "A number x is considered missing if x is in the range [lower, upper] and x is not in\n",
    "nums.\n",
    "\n",
    "Return the shortest sorted list of ranges that exactly covers all the missing\n",
    "numbers. That is, no element of nums is included in any of the ranges, and each\n",
    "missing number is covered by one of the ranges.\n",
    "\n",
    "Example 1:\n",
    "Input: nums = [0,1,3,50,75], lower = 0, upper = 99\n",
    "Output: [[2,2],[4,49],[51,74],[76,99]]"
   ]
  },
  {
   "cell_type": "code",
   "execution_count": 7,
   "id": "8c3c594d-a549-467a-af8e-73c9dd65fa03",
   "metadata": {},
   "outputs": [],
   "source": [
    "from itertools import pairwise\n",
    "class Solution:\n",
    "    def findMissingRanges(self,nums,lower,upper):\n",
    "        def f(a, b):\n",
    "            return str(a) if a == b else [f'{a},{b}']\n",
    "\n",
    "        n = len(nums)\n",
    "        if n == 0:\n",
    "            return [f(lower, upper)]\n",
    "        ans = []\n",
    "        if nums[0] > lower:\n",
    "            ans.append(f(lower, nums[0] - 1))\n",
    "        for a, b in pairwise(nums):\n",
    "            if b - a > 1:\n",
    "                ans.append(f(a + 1, b - 1))\n",
    "        if nums[-1] < upper:\n",
    "            ans.append(f(nums[-1] + 1, upper))\n",
    "        return ans"
   ]
  },
  {
   "cell_type": "code",
   "execution_count": 8,
   "id": "e9f0a664-8e00-4b98-a98a-b99fa2ffd6a4",
   "metadata": {},
   "outputs": [
    {
     "name": "stdout",
     "output_type": "stream",
     "text": [
      "['2', ['4,49'], ['51,74'], ['76,99']]\n"
     ]
    }
   ],
   "source": [
    "fm=Solution()\n",
    "print(fm.findMissingRanges([0,1,3,50,75],0,99))"
   ]
  },
  {
   "cell_type": "raw",
   "id": "c4519405-372e-4432-811d-d7f2c1f48a0e",
   "metadata": {},
   "source": [
    "Question 8\n",
    "Given an array of meeting time intervals where intervals[i] = [starti, endi],\n",
    "determine if a person could attend all meetings.\n",
    "\n",
    "Example 1:\n",
    "Input: intervals = [[0,30],[5,10],[15,20]]\n",
    "Output: false"
   ]
  },
  {
   "cell_type": "code",
   "execution_count": 11,
   "id": "c71e336a-190a-4e13-9dc2-cd1b764fbfac",
   "metadata": {},
   "outputs": [],
   "source": [
    "def canAttendMeetings(intervals):   \n",
    "    intervals.sort(key=lambda a: a.start)\n",
    "    for i in range(len(intervals)-1):\n",
    "        if intervals[i].end > intervals[i+1].start:\n",
    "            return False\n",
    "    return True"
   ]
  },
  {
   "cell_type": "code",
   "execution_count": 12,
   "id": "d6b8f783-42ce-4a64-b140-2c85c2d7019d",
   "metadata": {},
   "outputs": [
    {
     "ename": "AttributeError",
     "evalue": "'list' object has no attribute 'start'",
     "output_type": "error",
     "traceback": [
      "\u001b[0;31m---------------------------------------------------------------------------\u001b[0m",
      "\u001b[0;31mAttributeError\u001b[0m                            Traceback (most recent call last)",
      "Cell \u001b[0;32mIn[12], line 1\u001b[0m\n\u001b[0;32m----> 1\u001b[0m \u001b[43mcanAttendMeetings\u001b[49m\u001b[43m(\u001b[49m\u001b[43m[\u001b[49m\u001b[43m[\u001b[49m\u001b[38;5;241;43m0\u001b[39;49m\u001b[43m,\u001b[49m\u001b[38;5;241;43m30\u001b[39;49m\u001b[43m]\u001b[49m\u001b[43m,\u001b[49m\u001b[43m[\u001b[49m\u001b[38;5;241;43m5\u001b[39;49m\u001b[43m,\u001b[49m\u001b[38;5;241;43m10\u001b[39;49m\u001b[43m]\u001b[49m\u001b[43m,\u001b[49m\u001b[43m[\u001b[49m\u001b[38;5;241;43m15\u001b[39;49m\u001b[43m,\u001b[49m\u001b[38;5;241;43m20\u001b[39;49m\u001b[43m]\u001b[49m\u001b[43m]\u001b[49m\u001b[43m)\u001b[49m\n",
      "Cell \u001b[0;32mIn[11], line 2\u001b[0m, in \u001b[0;36mcanAttendMeetings\u001b[0;34m(intervals)\u001b[0m\n\u001b[1;32m      1\u001b[0m \u001b[38;5;28;01mdef\u001b[39;00m \u001b[38;5;21mcanAttendMeetings\u001b[39m(intervals):   \n\u001b[0;32m----> 2\u001b[0m     \u001b[43mintervals\u001b[49m\u001b[38;5;241;43m.\u001b[39;49m\u001b[43msort\u001b[49m\u001b[43m(\u001b[49m\u001b[43mkey\u001b[49m\u001b[38;5;241;43m=\u001b[39;49m\u001b[38;5;28;43;01mlambda\u001b[39;49;00m\u001b[43m \u001b[49m\u001b[43ma\u001b[49m\u001b[43m:\u001b[49m\u001b[43m \u001b[49m\u001b[43ma\u001b[49m\u001b[38;5;241;43m.\u001b[39;49m\u001b[43mstart\u001b[49m\u001b[43m)\u001b[49m\n\u001b[1;32m      3\u001b[0m     \u001b[38;5;28;01mfor\u001b[39;00m i \u001b[38;5;129;01min\u001b[39;00m \u001b[38;5;28mrange\u001b[39m(\u001b[38;5;28mlen\u001b[39m(intervals)\u001b[38;5;241m-\u001b[39m\u001b[38;5;241m1\u001b[39m):\n\u001b[1;32m      4\u001b[0m         \u001b[38;5;28;01mif\u001b[39;00m intervals[i]\u001b[38;5;241m.\u001b[39mend \u001b[38;5;241m>\u001b[39m intervals[i\u001b[38;5;241m+\u001b[39m\u001b[38;5;241m1\u001b[39m]\u001b[38;5;241m.\u001b[39mstart:\n",
      "Cell \u001b[0;32mIn[11], line 2\u001b[0m, in \u001b[0;36mcanAttendMeetings.<locals>.<lambda>\u001b[0;34m(a)\u001b[0m\n\u001b[1;32m      1\u001b[0m \u001b[38;5;28;01mdef\u001b[39;00m \u001b[38;5;21mcanAttendMeetings\u001b[39m(intervals):   \n\u001b[0;32m----> 2\u001b[0m     intervals\u001b[38;5;241m.\u001b[39msort(key\u001b[38;5;241m=\u001b[39m\u001b[38;5;28;01mlambda\u001b[39;00m a: \u001b[43ma\u001b[49m\u001b[38;5;241;43m.\u001b[39;49m\u001b[43mstart\u001b[49m)\n\u001b[1;32m      3\u001b[0m     \u001b[38;5;28;01mfor\u001b[39;00m i \u001b[38;5;129;01min\u001b[39;00m \u001b[38;5;28mrange\u001b[39m(\u001b[38;5;28mlen\u001b[39m(intervals)\u001b[38;5;241m-\u001b[39m\u001b[38;5;241m1\u001b[39m):\n\u001b[1;32m      4\u001b[0m         \u001b[38;5;28;01mif\u001b[39;00m intervals[i]\u001b[38;5;241m.\u001b[39mend \u001b[38;5;241m>\u001b[39m intervals[i\u001b[38;5;241m+\u001b[39m\u001b[38;5;241m1\u001b[39m]\u001b[38;5;241m.\u001b[39mstart:\n",
      "\u001b[0;31mAttributeError\u001b[0m: 'list' object has no attribute 'start'"
     ]
    }
   ],
   "source": [
    "canAttendMeetings([[0,30],[5,10],[15,20]])"
   ]
  },
  {
   "cell_type": "code",
   "execution_count": 13,
   "id": "29e31dae-aa27-4dce-9b9b-230e6cce23fb",
   "metadata": {},
   "outputs": [],
   "source": [
    "class Solution(object):\n",
    "    def canAttendMeetings(self, intervals):\n",
    "        \"\"\"\n",
    "        :type intervals: List[Interval]\n",
    "        :rtype: bool\n",
    "        \"\"\"\n",
    "        intervals.sort(key=lambda itv: (itv.start, itv.end))\n",
    "        for i in range(1, len(intervals)):\n",
    "            if intervals[i].start < intervals[i - 1].end:\n",
    "                return False\n",
    "\n",
    "        return True"
   ]
  },
  {
   "cell_type": "code",
   "execution_count": 14,
   "id": "1b9f497f-c3a2-4662-bc4d-26de48ed7dd3",
   "metadata": {},
   "outputs": [
    {
     "ename": "AttributeError",
     "evalue": "'list' object has no attribute 'start'",
     "output_type": "error",
     "traceback": [
      "\u001b[0;31m---------------------------------------------------------------------------\u001b[0m",
      "\u001b[0;31mAttributeError\u001b[0m                            Traceback (most recent call last)",
      "Cell \u001b[0;32mIn[14], line 2\u001b[0m\n\u001b[1;32m      1\u001b[0m cd\u001b[38;5;241m=\u001b[39mSolution()\n\u001b[0;32m----> 2\u001b[0m \u001b[38;5;28mprint\u001b[39m(\u001b[43mcd\u001b[49m\u001b[38;5;241;43m.\u001b[39;49m\u001b[43mcanAttendMeetings\u001b[49m\u001b[43m(\u001b[49m\u001b[43m[\u001b[49m\u001b[43m[\u001b[49m\u001b[38;5;241;43m0\u001b[39;49m\u001b[43m,\u001b[49m\u001b[38;5;241;43m30\u001b[39;49m\u001b[43m]\u001b[49m\u001b[43m,\u001b[49m\u001b[43m[\u001b[49m\u001b[38;5;241;43m5\u001b[39;49m\u001b[43m,\u001b[49m\u001b[38;5;241;43m10\u001b[39;49m\u001b[43m]\u001b[49m\u001b[43m,\u001b[49m\u001b[43m[\u001b[49m\u001b[38;5;241;43m15\u001b[39;49m\u001b[43m,\u001b[49m\u001b[38;5;241;43m20\u001b[39;49m\u001b[43m]\u001b[49m\u001b[43m]\u001b[49m\u001b[43m)\u001b[49m)\n",
      "Cell \u001b[0;32mIn[13], line 7\u001b[0m, in \u001b[0;36mSolution.canAttendMeetings\u001b[0;34m(self, intervals)\u001b[0m\n\u001b[1;32m      2\u001b[0m \u001b[38;5;28;01mdef\u001b[39;00m \u001b[38;5;21mcanAttendMeetings\u001b[39m(\u001b[38;5;28mself\u001b[39m, intervals):\n\u001b[1;32m      3\u001b[0m     \u001b[38;5;124;03m\"\"\"\u001b[39;00m\n\u001b[1;32m      4\u001b[0m \u001b[38;5;124;03m    :type intervals: List[Interval]\u001b[39;00m\n\u001b[1;32m      5\u001b[0m \u001b[38;5;124;03m    :rtype: bool\u001b[39;00m\n\u001b[1;32m      6\u001b[0m \u001b[38;5;124;03m    \"\"\"\u001b[39;00m\n\u001b[0;32m----> 7\u001b[0m     \u001b[43mintervals\u001b[49m\u001b[38;5;241;43m.\u001b[39;49m\u001b[43msort\u001b[49m\u001b[43m(\u001b[49m\u001b[43mkey\u001b[49m\u001b[38;5;241;43m=\u001b[39;49m\u001b[38;5;28;43;01mlambda\u001b[39;49;00m\u001b[43m \u001b[49m\u001b[43mitv\u001b[49m\u001b[43m:\u001b[49m\u001b[43m \u001b[49m\u001b[43m(\u001b[49m\u001b[43mitv\u001b[49m\u001b[38;5;241;43m.\u001b[39;49m\u001b[43mstart\u001b[49m\u001b[43m,\u001b[49m\u001b[43m \u001b[49m\u001b[43mitv\u001b[49m\u001b[38;5;241;43m.\u001b[39;49m\u001b[43mend\u001b[49m\u001b[43m)\u001b[49m\u001b[43m)\u001b[49m\n\u001b[1;32m      8\u001b[0m     \u001b[38;5;28;01mfor\u001b[39;00m i \u001b[38;5;129;01min\u001b[39;00m \u001b[38;5;28mrange\u001b[39m(\u001b[38;5;241m1\u001b[39m, \u001b[38;5;28mlen\u001b[39m(intervals)):\n\u001b[1;32m      9\u001b[0m         \u001b[38;5;28;01mif\u001b[39;00m intervals[i]\u001b[38;5;241m.\u001b[39mstart \u001b[38;5;241m<\u001b[39m intervals[i \u001b[38;5;241m-\u001b[39m \u001b[38;5;241m1\u001b[39m]\u001b[38;5;241m.\u001b[39mend:\n",
      "Cell \u001b[0;32mIn[13], line 7\u001b[0m, in \u001b[0;36mSolution.canAttendMeetings.<locals>.<lambda>\u001b[0;34m(itv)\u001b[0m\n\u001b[1;32m      2\u001b[0m \u001b[38;5;28;01mdef\u001b[39;00m \u001b[38;5;21mcanAttendMeetings\u001b[39m(\u001b[38;5;28mself\u001b[39m, intervals):\n\u001b[1;32m      3\u001b[0m     \u001b[38;5;124;03m\"\"\"\u001b[39;00m\n\u001b[1;32m      4\u001b[0m \u001b[38;5;124;03m    :type intervals: List[Interval]\u001b[39;00m\n\u001b[1;32m      5\u001b[0m \u001b[38;5;124;03m    :rtype: bool\u001b[39;00m\n\u001b[1;32m      6\u001b[0m \u001b[38;5;124;03m    \"\"\"\u001b[39;00m\n\u001b[0;32m----> 7\u001b[0m     intervals\u001b[38;5;241m.\u001b[39msort(key\u001b[38;5;241m=\u001b[39m\u001b[38;5;28;01mlambda\u001b[39;00m itv: (\u001b[43mitv\u001b[49m\u001b[38;5;241;43m.\u001b[39;49m\u001b[43mstart\u001b[49m, itv\u001b[38;5;241m.\u001b[39mend))\n\u001b[1;32m      8\u001b[0m     \u001b[38;5;28;01mfor\u001b[39;00m i \u001b[38;5;129;01min\u001b[39;00m \u001b[38;5;28mrange\u001b[39m(\u001b[38;5;241m1\u001b[39m, \u001b[38;5;28mlen\u001b[39m(intervals)):\n\u001b[1;32m      9\u001b[0m         \u001b[38;5;28;01mif\u001b[39;00m intervals[i]\u001b[38;5;241m.\u001b[39mstart \u001b[38;5;241m<\u001b[39m intervals[i \u001b[38;5;241m-\u001b[39m \u001b[38;5;241m1\u001b[39m]\u001b[38;5;241m.\u001b[39mend:\n",
      "\u001b[0;31mAttributeError\u001b[0m: 'list' object has no attribute 'start'"
     ]
    }
   ],
   "source": [
    "cd=Solution()\n",
    "print(cd.canAttendMeetings([[0,30],[5,10],[15,20]]))"
   ]
  },
  {
   "cell_type": "code",
   "execution_count": null,
   "id": "2409b8d7-1747-496a-9214-364e317fbaed",
   "metadata": {},
   "outputs": [],
   "source": []
  }
 ],
 "metadata": {
  "kernelspec": {
   "display_name": "Python 3 (ipykernel)",
   "language": "python",
   "name": "python3"
  },
  "language_info": {
   "codemirror_mode": {
    "name": "ipython",
    "version": 3
   },
   "file_extension": ".py",
   "mimetype": "text/x-python",
   "name": "python",
   "nbconvert_exporter": "python",
   "pygments_lexer": "ipython3",
   "version": "3.10.8"
  }
 },
 "nbformat": 4,
 "nbformat_minor": 5
}
