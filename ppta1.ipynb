{
 "cells": [
  {
   "cell_type": "raw",
   "id": "97e82be5-aada-45c7-a181-701804c7be8e",
   "metadata": {},
   "source": [
    "💡 **Q1.** Given an array of integers nums and an integer target, return indices of the two numbers such that they add up to target.\n",
    "\n",
    "You may assume that each input would have exactly one solution, and you may not use the same element twice.\n",
    "\n",
    "You can return the answer in any order.\n",
    "\n",
    "**Example:**\n",
    "Input: nums = [2,7,11,15], target = 9\n",
    "Output0 [0,1]\n",
    "\n",
    "**Explanation:** Because nums[0] + nums[1] == 9, we return [0, 1]"
   ]
  },
  {
   "cell_type": "code",
   "execution_count": 1,
   "id": "d6231889-03b4-4a4b-b8dc-5e77a745d743",
   "metadata": {},
   "outputs": [],
   "source": [
    "def array_find():\n",
    "    array=[3,5,2,6,4,9]\n",
    "    target=9\n",
    "    for i in range(len(array)):\n",
    "        for j in range(i,len(array)):\n",
    "            if (array[i]+array[j]==target):\n",
    "                return [i,j]\n",
    "                break\n",
    "    "
   ]
  },
  {
   "cell_type": "code",
   "execution_count": 2,
   "id": "376f81e3-b533-49a8-beb4-55978f87ecf0",
   "metadata": {},
   "outputs": [
    {
     "data": {
      "text/plain": [
       "[0, 3]"
      ]
     },
     "execution_count": 2,
     "metadata": {},
     "output_type": "execute_result"
    }
   ],
   "source": [
    "array_find()"
   ]
  },
  {
   "cell_type": "raw",
   "id": "360fb883-5cf7-4bba-bfc0-33f3f25df8a3",
   "metadata": {},
   "source": [
    "💡 **Q2.** Given an integer array nums and an integer val, remove all occurrences of val in nums in-place. The order of the elements may be changed. Then return the number of elements in nums which are not equal to val.\n",
    "\n",
    "Consider the number of elements in nums which are not equal to val be k, to get accepted, you need to do the following things:\n",
    "\n",
    "- Change the array nums such that the first k elements of nums contain the elements which are not equal to val. The remaining elements of nums are not important as well as the size of nums.\n",
    "- Return k.\n",
    "\n",
    "**Example :**\n",
    "Input: nums = [3,2,2,3], val = 3\n",
    "Output: 2, nums = [2,2,_*,_*]\n",
    "\n",
    "**Explanation:** Your function should return k = 2, with the first two elements of nums being 2. It does not matter what you leave beyond the returned k (hence they are underscores)[\n"
   ]
  },
  {
   "cell_type": "code",
   "execution_count": 3,
   "id": "c9093d7d-211a-4a2e-bd68-17e1ab768afc",
   "metadata": {
    "tags": []
   },
   "outputs": [],
   "source": [
    "def array_op():\n",
    "    array=[3,2,4,6,3,2,7,5,4,5,3]\n",
    "    val=3\n",
    "    for i in array:\n",
    "        if(i==val):\n",
    "            array.remove(i)\n",
    "    return len(array),array        "
   ]
  },
  {
   "cell_type": "code",
   "execution_count": 4,
   "id": "6d3f75d3-62ff-4981-b829-8fb85e582bd4",
   "metadata": {},
   "outputs": [
    {
     "name": "stdout",
     "output_type": "stream",
     "text": [
      "8 ,num= [2, 4, 6, 2, 7, 5, 4, 5]\n"
     ]
    }
   ],
   "source": [
    "k,num=array_op()\n",
    "print(k,','\"num=\",num)"
   ]
  },
  {
   "cell_type": "raw",
   "id": "d3e54d26-6ab2-4724-a466-1b4862da79e6",
   "metadata": {},
   "source": [
    "💡 **Q3.** Given a sorted array of distinct integers and a target value, return the index if the target is found. If not, return the index where it would be if it were inserted in order.\n",
    "\n",
    "You must write an algorithm with O(log n) runtime complexity.\n",
    "\n",
    "**Example 1:**\n",
    "Input: nums = [1,3,5,6], target = 5\n",
    "\n",
    "Output: 2"
   ]
  },
  {
   "cell_type": "code",
   "execution_count": 5,
   "id": "2e24b0c0-9fa9-4c9f-8b90-3f56dfffdc4c",
   "metadata": {},
   "outputs": [
    {
     "name": "stdout",
     "output_type": "stream",
     "text": [
      "Element should be present at index = 4\n"
     ]
    }
   ],
   "source": [
    "def binarySearch(arr, l, r, x):\n",
    "\twhile l <= r:\n",
    "\n",
    "\t\tmid = l + (r - l) // 2\n",
    "\n",
    "\t\t# Check if x is present at mid\n",
    "\t\tif arr[mid] == x:\n",
    "\t\t\treturn mid,0\n",
    "\n",
    "\t\t# If x is greater, ignore left half\n",
    "\t\telif arr[mid] < x:\n",
    "\t\t\tl = mid + 1\n",
    "\n",
    "\t\t# If x is smaller, ignore right half\n",
    "\t\telse:\n",
    "\t\t\tr = mid - 1\n",
    "\n",
    "\t# If we reach here, then the element\n",
    "\t# was not present\n",
    "\treturn -1,mid\n",
    "\n",
    "\n",
    "# Driver Code\n",
    "if __name__ == '__main__':\n",
    "\tarr = [2, 3, 4, 10, 40]\n",
    "\tx = 35\n",
    "\n",
    "\t# Function call\n",
    "\tresult,val = binarySearch(arr, 0, len(arr)-1, x)\n",
    "\tif result != -1:\n",
    "\t\tprint(\"Element is present at index\", result)\n",
    "\telse:\n",
    "\t\tprint(\"Element should be present at index =\",val)\n"
   ]
  },
  {
   "cell_type": "raw",
   "id": "6adfe22d-3832-483a-8e99-9956e1e3a7a9",
   "metadata": {},
   "source": [
    "💡 **Q4.** You are given a large integer represented as an integer array digits, where each digits[i] is the ith digit of the integer. The digits are ordered from most significant to least significant in left-to-right order. The large integer does not contain any leading 0's.\n",
    "\n",
    "Increment the large integer by one and return the resulting array of digits.\n",
    "\n",
    "**Example 1:**\n",
    "Input: digits = [1,2,3]\n",
    "Output: [1,2,4]\n",
    "\n",
    "**Explanation:** The array represents the integer 123.\n",
    "\n",
    "Incrementing by one gives 123 + 1 = 124.\n",
    "Thus, the result should be [1,2,4]"
   ]
  },
  {
   "cell_type": "code",
   "execution_count": 6,
   "id": "462aba21-b9ff-424f-beae-062aca49e8ab",
   "metadata": {},
   "outputs": [],
   "source": [
    "def intg_r():\n",
    "    num=[1,4,3,6,7,8]\n",
    "    l=len(num)\n",
    "    num[l-1]=num[l-1]+1\n",
    "    return num"
   ]
  },
  {
   "cell_type": "code",
   "execution_count": 7,
   "id": "6f681ceb-ef95-4461-bac0-6937ce9243df",
   "metadata": {},
   "outputs": [
    {
     "data": {
      "text/plain": [
       "[1, 4, 3, 6, 7, 9]"
      ]
     },
     "execution_count": 7,
     "metadata": {},
     "output_type": "execute_result"
    }
   ],
   "source": [
    "intg_r()"
   ]
  },
  {
   "cell_type": "raw",
   "id": "c582b6fe-4eed-46ac-9328-8d4727404425",
   "metadata": {},
   "source": [
    "💡 **Q5.** You are given two integer arrays nums1 and nums2, sorted in non-decreasing order, and two integers m and n, representing the number of elements in nums1 and nums2 respectively.\n",
    "\n",
    "Merge nums1 and nums2 into a single array sorted in non-decreasing order.\n",
    "\n",
    "The final sorted array should not be returned by the function, but instead be stored inside the array nums1. To accommodate this, nums1 has a length of m + n, where the first m elements denote the elements that should be merged, and the last n elements are set to 0 and should be ignored. nums2 has a length of n.\n",
    "\n",
    "**Example 1:**\n",
    "Input: nums1 = [1,2,3,0,0,0], m = 3, nums2 = [2,5,6], n = 3\n",
    "Output: [1,2,2,3,5,6]\n",
    "\n",
    "**Explanation:** The arrays we are merging are [1,2,3] and [2,5,6].\n",
    "The result of the merge is [1,2,2,3,5,6] with the underlined elements coming from nums1"
   ]
  },
  {
   "cell_type": "code",
   "execution_count": 8,
   "id": "7bf5b3ff-e12a-4bb6-990a-89a2d100904b",
   "metadata": {},
   "outputs": [],
   "source": [
    "def array_merge(a1,a2,m,n):\n",
    "    a3=[]\n",
    "    a3=a1[:m]+a2[:n]\n",
    "    return a3"
   ]
  },
  {
   "cell_type": "code",
   "execution_count": 9,
   "id": "3199227f-3703-4958-a83c-e1f6e1cc8337",
   "metadata": {},
   "outputs": [
    {
     "name": "stdout",
     "output_type": "stream",
     "text": [
      "[1, 2, 2, 3, 5, 6]\n"
     ]
    }
   ],
   "source": [
    "k=array_merge([1,2,3,0,0,0],[2,5,6,],3,3)\n",
    "k.sort()\n",
    "print(k)"
   ]
  },
  {
   "cell_type": "raw",
   "id": "3fc9c2ba-eafc-4ed3-8202-1abff028674a",
   "metadata": {},
   "source": [
    "💡 **Q6.** Given an integer array nums, return true if any value appears at least twice in the array, and return false if every element is distinct.\n",
    "\n",
    "**Example 1:**\n",
    "Input: nums = [1,2,3,1]\n",
    "\n",
    "Output: true"
   ]
  },
  {
   "cell_type": "code",
   "execution_count": 10,
   "id": "a389c54f-d87e-4497-b21a-16bf1d75dd7d",
   "metadata": {},
   "outputs": [],
   "source": [
    "def find_duplicate(a):\n",
    "    flag=False\n",
    "    for i in a:\n",
    "        for j in a[i:]:\n",
    "            if (i==j):\n",
    "                flag=True\n",
    "            else:\n",
    "                Flag=False\n",
    "    return flag          "
   ]
  },
  {
   "cell_type": "code",
   "execution_count": 11,
   "id": "d3c60f2b-6883-4cfc-bedb-5b6787f1e9df",
   "metadata": {},
   "outputs": [
    {
     "name": "stdout",
     "output_type": "stream",
     "text": [
      "True\n"
     ]
    }
   ],
   "source": [
    "print(find_duplicate([4,1,2,3,4,75]))"
   ]
  },
  {
   "cell_type": "raw",
   "id": "92ce0266-0aeb-4272-8417-c87456e69fb6",
   "metadata": {},
   "source": [
    "💡 **Q7.** Given an integer array nums, move all 0's to the end of it while maintaining the relative order of the nonzero elements.\n",
    "\n",
    "Note that you must do this in-place without making a copy of the array.\n",
    "\n",
    "**Example 1:**\n",
    "Input: nums = [0,1,0,3,12]\n",
    "Output: [1,3,12,0,0]"
   ]
  },
  {
   "cell_type": "code",
   "execution_count": 11,
   "id": "6305f00d-f5a0-48f4-af8a-a72f913b8468",
   "metadata": {},
   "outputs": [
    {
     "name": "stdout",
     "output_type": "stream",
     "text": [
      "Array after pushing all zeros to end of array:\n",
      "[1, 3, 12, 0, 0]\n"
     ]
    }
   ],
   "source": [
    "# zeros to end of an array.\n",
    "def pushZerosToEnd(arr, n):\n",
    "\tcount = 0 # Count of non-zero element\n",
    "\t# replace the element at index\n",
    "\t# 'count' with this element\n",
    "\tfor i in range(n):\n",
    "\t\tif arr[i] != 0:\n",
    "\t\t\t\n",
    "\t\t\t# here count is incremented\n",
    "\t\t\tarr[count] = arr[i]\n",
    "\t\t\tcount+=1\n",
    "\t# as index of first 0. Make all\n",
    "\t# elements 0 from count to end.\n",
    "\twhile count < n:\n",
    "\t\tarr[count] = 0\n",
    "\t\tcount += 1\n",
    "\t\t\n",
    "# Driver code\n",
    "arr = [0,1,0,3,12]\n",
    "n = len(arr)\n",
    "pushZerosToEnd(arr, n)\n",
    "print(\"Array after pushing all zeros to end of array:\")\n",
    "print(arr)"
   ]
  },
  {
   "cell_type": "raw",
   "id": "17904d77-b376-4ed2-a372-e0321f5aec88",
   "metadata": {},
   "source": [
    "💡 **Q8.** You have a set of integers s, which originally contains all the numbers from 1 to n. Unfortunately, due to some error, one of the numbers in s got duplicated to another number in the set, which results in repetition of one number and loss of another number.\n",
    "\n",
    "You are given an integer array nums representing the data status of this set after the error.\n",
    "\n",
    "Find the number that occurs twice and the number that is missing and return them in the form of an array.\n",
    "\n",
    "**Example 1:**\n",
    "Input: nums = [1,2,2,4]\n",
    "Output: [2,3]"
   ]
  },
  {
   "cell_type": "code",
   "execution_count": 17,
   "id": "d6289631-4fef-45d9-81c8-ac1e6341f14e",
   "metadata": {},
   "outputs": [],
   "source": [
    "def arr_mis(a):\n",
    "    for i in a:\n",
    "        for j in a[i:]:\n",
    "            if i==j:\n",
    "                return [a[i],a[i]+1]\n",
    "                break"
   ]
  },
  {
   "cell_type": "code",
   "execution_count": 19,
   "id": "f2b01a6f-836a-4fe7-bbe7-31238a615ad7",
   "metadata": {},
   "outputs": [
    {
     "name": "stdout",
     "output_type": "stream",
     "text": [
      "[3, 4]\n"
     ]
    }
   ],
   "source": [
    "print(arr_mis([1,2,3,3,5]))"
   ]
  }
 ],
 "metadata": {
  "kernelspec": {
   "display_name": "Python 3 (ipykernel)",
   "language": "python",
   "name": "python3"
  },
  "language_info": {
   "codemirror_mode": {
    "name": "ipython",
    "version": 3
   },
   "file_extension": ".py",
   "mimetype": "text/x-python",
   "name": "python",
   "nbconvert_exporter": "python",
   "pygments_lexer": "ipython3",
   "version": "3.10.8"
  }
 },
 "nbformat": 4,
 "nbformat_minor": 5
}
