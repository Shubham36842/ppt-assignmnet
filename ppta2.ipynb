{
 "cells": [
  {
   "cell_type": "raw",
   "id": "69e673ed-1461-466d-89f9-7421ac1ec620",
   "metadata": {},
   "source": [
    "Question 1\n",
    "Given an integer array nums of 2n integers, group these integers into n pairs (a1, b1), (a2, b2),..., (an, bn) such that the sum of min(ai, bi) for all i is maximized. Return the maximized sum.\n",
    "\n",
    "Example 1:\n",
    "Input: nums = [1,4,3,2]\n",
    "Output: 4"
   ]
  },
  {
   "cell_type": "code",
   "execution_count": 1,
   "id": "98d174ad-980a-434c-ade2-0b5b520f5bf5",
   "metadata": {},
   "outputs": [],
   "source": [
    "class Solution(object):\n",
    "    def arrayPairSum(self, nums):\n",
    "        \"\"\"\n",
    "        :type nums: List[int]\n",
    "        :rtype: int\n",
    "        \"\"\"\n",
    "        nums.sort()\n",
    "        result = 0\n",
    "        numsLen = len(nums)\n",
    "        for i in range(0, numsLen - 1, 2):\n",
    "            result += nums[i]\n",
    "        return result"
   ]
  },
  {
   "cell_type": "code",
   "execution_count": 2,
   "id": "06989d0d-e7f6-4504-b82a-5f35b81ed0f1",
   "metadata": {},
   "outputs": [
    {
     "name": "stdout",
     "output_type": "stream",
     "text": [
      "4\n"
     ]
    }
   ],
   "source": [
    "r=Solution()\n",
    "k=r.arrayPairSum([1,4,3,2])\n",
    "print(k)"
   ]
  },
  {
   "cell_type": "raw",
   "id": "57a82b80-3bc3-40f2-9b39-20193a5147aa",
   "metadata": {},
   "source": [
    "Question 2\n",
    "Alice has n candies, where the ith candy is of type candyType[i]. Alice noticed that she started to gain weight, so she visited a doctor. \n",
    "\n",
    "The doctor advised Alice to only eat n / 2 of the candies she has (n is always even). Alice likes her candies very much, and she wants to eat the maximum number of different types of candies while still following the doctor's advice. \n",
    "\n",
    "Given the integer array candyType of length n, return the maximum number of different types of candies she can eat if she only eats n / 2 of them.\n",
    "\n",
    "Example 1:\n",
    "Input: candyType = [1,1,2,2,3,3]\n",
    "Output: 3"
   ]
  },
  {
   "cell_type": "code",
   "execution_count": 3,
   "id": "456b926c-78bc-4b75-a814-2e83df318bb6",
   "metadata": {},
   "outputs": [],
   "source": [
    "class Solution:\n",
    "    def distributeCandies(self, lst):\n",
    "        return min(len(set(lst)), len(lst) // 2)"
   ]
  },
  {
   "cell_type": "code",
   "execution_count": 4,
   "id": "cbc4a6c0-01b5-4ae1-a021-6150d52d2292",
   "metadata": {},
   "outputs": [
    {
     "name": "stdout",
     "output_type": "stream",
     "text": [
      "3\n"
     ]
    }
   ],
   "source": [
    "candy=Solution()\n",
    "print(candy.distributeCandies([1,1,2,2,3,3]))"
   ]
  },
  {
   "cell_type": "raw",
   "id": "bc9f99d8-4f64-4bc3-8fee-2baa5815973a",
   "metadata": {},
   "source": [
    "Question 3\n",
    "We define a harmonious array as an array where the difference between its maximum value\n",
    "and its minimum value is exactly 1.\n",
    "\n",
    "Given an integer array nums, return the length of its longest harmonious subsequence\n",
    "among all its possible subsequences.\n",
    "\n",
    "A subsequence of an array is a sequence that can be derived from the array by deleting some or no elements without changing the order of the remaining elements.\n",
    "\n",
    "Example 1:\n",
    "Input: nums = [1,3,2,2,5,2,3,7]\n",
    "Output: 5"
   ]
  },
  {
   "cell_type": "code",
   "execution_count": 5,
   "id": "04396c68-e01d-4176-8b4f-9468bc5bf6de",
   "metadata": {},
   "outputs": [],
   "source": [
    "class Solution(object):\n",
    "    def findLHS(self, nums):\n",
    "        \"\"\"\n",
    "        :type nums: List[int]\n",
    "        :rtype: int\n",
    "        \"\"\"\n",
    "        numsLen, left, result = len(nums), 0, 0\n",
    "        nums = sorted(nums)\n",
    "        for i in range(numsLen):\n",
    "            while left < i and nums[i] - nums[left] > 1:\n",
    "                left += 1\n",
    "            if nums[i] - nums[left] == 1:\n",
    "                result = max(i - left + 1, result)\n",
    "        return result"
   ]
  },
  {
   "cell_type": "code",
   "execution_count": 6,
   "id": "fc148436-22a0-4821-bccd-581d79fc75e1",
   "metadata": {},
   "outputs": [
    {
     "name": "stdout",
     "output_type": "stream",
     "text": [
      "5\n"
     ]
    }
   ],
   "source": [
    "har=Solution()\n",
    "print(har.findLHS([1,3,2,2,5,2,3,7]))"
   ]
  },
  {
   "cell_type": "raw",
   "id": "cc71560f-bea3-4366-b235-e24524cb7fa4",
   "metadata": {},
   "source": [
    "Question 4\n",
    "You have a long flowerbed in which some of the plots are planted, and some are not.\n",
    "However, flowers cannot be planted in adjacent plots.\n",
    "Given an integer array flowerbed containing 0's and 1's, where 0 means empty and 1 means not empty, and an integer n, return true if n new flowers can be planted in the flowerbed without violating the no-adjacent-flowers rule and false otherwise.\n",
    "\n",
    "Example 1:\n",
    "Input: flowerbed = [1,0,0,0,1], n = 1\n",
    "Output: true"
   ]
  },
  {
   "cell_type": "code",
   "execution_count": 27,
   "id": "61f7ce76-00ae-459e-81fb-f5d7c6aeb0cb",
   "metadata": {},
   "outputs": [],
   "source": [
    "class Solution:\n",
    "  def canPlaceFlowers(self,flowerbed,n):\n",
    "    for i, flower in enumerate(flowerbed):\n",
    "      if flower == 0 and (i == 0 or flowerbed[i - 1] == 0) and (i == len(flowerbed) - 1 or flowerbed[i + 1] == 0):\n",
    "        flowerbed[i] = 1\n",
    "        n -= 1\n",
    "      if n <= 0:\n",
    "        return True\n",
    "\n",
    "    return False"
   ]
  },
  {
   "cell_type": "raw",
   "id": "cc2c9095-c2b0-4e0b-b62c-35716c87d7e5",
   "metadata": {},
   "source": [
    "Question 5\n",
    "Given an integer array nums, find three numbers whose product is maximum and return the maximum product.\n",
    "\n",
    "Example 1:\n",
    "Input: nums = [1,2,3]\n",
    "Output: 6"
   ]
  },
  {
   "cell_type": "code",
   "execution_count": 7,
   "id": "f18901bd-60c7-405f-904d-ddf2ed2a5669",
   "metadata": {},
   "outputs": [
    {
     "name": "stdout",
     "output_type": "stream",
     "text": [
      "Maximum product is 1200\n"
     ]
    }
   ],
   "source": [
    "# Python3 program to find a maximum\n",
    "# product of a triplet in array\n",
    "# of integers\n",
    "import sys\n",
    "\n",
    "# Function to find a maximum\n",
    "# product of a triplet in array\n",
    "# of integers of size n\n",
    "def maxProduct(arr, n):\n",
    "\n",
    "\t# if size is less than 3,\n",
    "\t# no triplet exists\n",
    "\tif n < 3:\n",
    "\t\treturn -1\n",
    "\n",
    "\t# will contain max product\n",
    "\tmax_product = -(sys.maxsize - 1)\n",
    "\t\n",
    "\tfor i in range(0, n - 2):\n",
    "\t\tfor j in range(i + 1, n - 1):\n",
    "\t\t\tfor k in range(j + 1, n):\n",
    "\t\t\t\tmax_product = max(\n",
    "\t\t\t\t\tmax_product, arr[i]\n",
    "\t\t\t\t\t* arr[j] * arr[k])\n",
    "\n",
    "\treturn max_product\n",
    "\n",
    "# Driver Program\n",
    "arr = [10, 3, 5, 6, 20]\n",
    "n = len(arr)\n",
    "\n",
    "max = maxProduct(arr, n)\n",
    "\n",
    "if max == -1:\n",
    "\tprint(\"No Triplet Exits\")\n",
    "else:\n",
    "\tprint(\"Maximum product is\", max)"
   ]
  },
  {
   "cell_type": "raw",
   "id": "713b1915-d2b6-4400-b473-0598152d8314",
   "metadata": {},
   "source": [
    "Question 6\n",
    "Given an array of integers nums which is sorted in ascending order, and an integer target,\n",
    "write a function to search target in nums. If target exists, then return its index. Otherwise,\n",
    "return -1.\n",
    "\n",
    "You must write an algorithm with O(log n) runtime complexity.\n",
    "\n",
    "Input: nums = [-1,0,3,5,9,12], target = 9\n",
    "Output: 4\n"
   ]
  },
  {
   "cell_type": "code",
   "execution_count": 11,
   "id": "7695c8a2-db81-44cf-ab79-b9eedbc056ef",
   "metadata": {},
   "outputs": [],
   "source": [
    "class Solution:\n",
    "    def search(self, nums,target):\n",
    "        l = 0\n",
    "        r = len(nums)-1\n",
    " \n",
    "        while l<=r:\n",
    "            m = l + (r-l)//2\n",
    "            if nums[m]>target:\n",
    "                r=m-1\n",
    "            elif nums[m]<target:\n",
    "                l=m+1\n",
    "            else:\n",
    "                return m\n",
    "        return -1"
   ]
  },
  {
   "cell_type": "code",
   "execution_count": 12,
   "id": "00dad335-9439-4952-ae54-0b90f51aa1f7",
   "metadata": {},
   "outputs": [
    {
     "name": "stdout",
     "output_type": "stream",
     "text": [
      "4\n"
     ]
    }
   ],
   "source": [
    "bs=Solution()\n",
    "print(bs.search([-1,0,3,5,9,12],9))"
   ]
  },
  {
   "cell_type": "raw",
   "id": "3335264d-65dc-4332-8464-cb57f47bff77",
   "metadata": {},
   "source": [
    "Question 7\n",
    "An array is monotonic if it is either monotone increasing or monotone decreasing.\n",
    "\n",
    "An array nums is monotone increasing if for all i <= j, nums[i] <= nums[j]. An array nums is\n",
    "monotone decreasing if for all i <= j, nums[i] >= nums[j].\n",
    "\n",
    "Given an integer array nums, return true if the given array is monotonic, or false otherwise.\n",
    "\n",
    "Example 1:\n",
    "Input: nums = [1,2,2,3]\n",
    "Output: true"
   ]
  },
  {
   "cell_type": "code",
   "execution_count": 17,
   "id": "4f304cc9-61fd-4262-85ca-e2eca405b608",
   "metadata": {},
   "outputs": [
    {
     "name": "stdout",
     "output_type": "stream",
     "text": [
      "true\n"
     ]
    }
   ],
   "source": [
    "# Function to check array is monotonic\n",
    "def check(arr):\n",
    "\tN = len(arr)\n",
    "\tinc = True\n",
    "\tdec = True\n",
    "\t\n",
    "\t# Loop to check if array is increasing\n",
    "\tfor i in range(0, N-1):\n",
    "\t\n",
    "\t\t# To check if array is not increasing\n",
    "\t\tif arr[i] > arr[i+1]:\n",
    "\t\t\tinc = False\n",
    "\n",
    "\t# Loop to check if array is decreasing\n",
    "\tfor i in range(0, N-1):\n",
    "\t\n",
    "\t# To check if array is not decreasing\n",
    "\t\tif arr[i] < arr[i+1]:\n",
    "\t\t\tdec = False\n",
    "\n",
    "\t# Pick one whether inc or dec\n",
    "\treturn inc or dec\n",
    "\n",
    "# Driver code\n",
    "if __name__ == \"__main__\":\n",
    "\tarr = [1, 2, 3, 3]\n",
    "\n",
    "\t# Function call\n",
    "\tans = check(arr)\n",
    "\tif ans == True:\n",
    "\t\tprint(\"true\")\n",
    "\telse:\n",
    "\t\tprint(\"false\")\n"
   ]
  },
  {
   "cell_type": "raw",
   "id": "2194350b-2f13-4029-bbd4-c412a26314d9",
   "metadata": {},
   "source": [
    "Question 8\n",
    "You are given an integer array nums and an integer k.\n",
    "\n",
    "In one operation, you can choose any index i where 0 <= i < nums.length and change nums[i] to nums[i] + x where x is an integer from the range [-k, k]. You can apply this operation at most once for each index i.\n",
    "\n",
    "The score of nums is the difference between the maximum and minimum elements in nums.\n",
    "\n",
    "Return the minimum score of nums after applying the mentioned operation at most once for each index in it.\n",
    "\n",
    "Example 1:\n",
    "Input: nums = [1], k = 0\n",
    "Output: 0"
   ]
  },
  {
   "cell_type": "code",
   "execution_count": 23,
   "id": "4cbd21d1-7342-4aa4-9aae-eb6093fe278c",
   "metadata": {},
   "outputs": [
    {
     "name": "stdout",
     "output_type": "stream",
     "text": [
      "20\n"
     ]
    }
   ],
   "source": [
    "def minDiff(arr,n,k):\n",
    "\tresult = +2147483647\n",
    "\n",
    "\t# Sorting the array.\n",
    "\tarr.sort()\n",
    "\n",
    "\t# Find minimum value among\n",
    "\t# all K size subarray.\n",
    "\tfor i in range(n-k+1):\n",
    "\t\tresult = int(min(result, arr[i+k-1] - arr[i]))\n",
    "\n",
    "\treturn result\n",
    "\n",
    "# Driver code\n",
    "\n",
    "arr= [10, 100, 300, 200, 1000, 20, 30]\n",
    "n =len(arr)\n",
    "k = 3\n",
    "\n",
    "print(minDiff(arr, n, k))"
   ]
  }
 ],
 "metadata": {
  "kernelspec": {
   "display_name": "Python 3 (ipykernel)",
   "language": "python",
   "name": "python3"
  },
  "language_info": {
   "codemirror_mode": {
    "name": "ipython",
    "version": 3
   },
   "file_extension": ".py",
   "mimetype": "text/x-python",
   "name": "python",
   "nbconvert_exporter": "python",
   "pygments_lexer": "ipython3",
   "version": "3.10.8"
  }
 },
 "nbformat": 4,
 "nbformat_minor": 5
}
